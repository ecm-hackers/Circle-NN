{
 "cells": [
  {
   "cell_type": "code",
   "execution_count": 1,
   "metadata": {},
   "outputs": [],
   "source": [
    "# Load Model"
   ]
  },
  {
   "cell_type": "code",
   "execution_count": 11,
   "metadata": {},
   "outputs": [],
   "source": [
    "import pickle\n",
    "import numpy as np"
   ]
  },
  {
   "cell_type": "code",
   "execution_count": 3,
   "metadata": {},
   "outputs": [],
   "source": [
    "model_path = \"finalized_model.sav\"\n",
    "scaler_path = \"scaler_param.sav\"\n"
   ]
  },
  {
   "cell_type": "code",
   "execution_count": 13,
   "metadata": {},
   "outputs": [],
   "source": [
    "loaded_model = pickle.load(open(model_path,'rb'))\n",
    "loaded_scaler = pickle.load(open(scaler_path,'rb'))"
   ]
  },
  {
   "cell_type": "code",
   "execution_count": 28,
   "metadata": {},
   "outputs": [
    {
     "name": "stderr",
     "output_type": "stream",
     "text": [
      "c:\\users\\kunal k.s. sahni\\appdata\\local\\programs\\python\\python36\\lib\\site-packages\\sklearn\\utils\\validation.py:590: DataConversionWarning: Data with input dtype int32 was converted to float64 by StandardScaler.\n",
      "  warnings.warn(msg, DataConversionWarning)\n"
     ]
    }
   ],
   "source": [
    "# Xc,Yc,Radius\n",
    "test = np.array([[5,5,70]])\n",
    "test = loaded_scaler.transform(test)\n",
    "predict = loaded_model.predict(test)\n",
    "predict = predict.flatten()"
   ]
  },
  {
   "cell_type": "code",
   "execution_count": 30,
   "metadata": {},
   "outputs": [
    {
     "data": {
      "text/plain": [
       "[(11.459275589761695, 58.19816100892029),\n",
       " (9.60500763941403, 58.18709152793629),\n",
       " (11.45939510500303, -37.42074371666602),\n",
       " (9.604004857474475, -37.414190194459245),\n",
       " (58.04600747172405, 12.527794818033986),\n",
       " (-37.373631195334085, 12.518513826379278),\n",
       " (58.064036449298676, 10.759459959768979),\n",
       " (58.0721637455437, 10.760180261371008),\n",
       " (12.409416010433352, 58.182330751557295),\n",
       " (8.656669319225877, 58.22258491540438),\n",
       " (12.399783762488763, -37.401637192874546),\n",
       " (8.662497466218506, -37.40102371226954),\n",
       " (58.08719336536591, 13.428103513622649),\n",
       " (-37.3677928002838, 13.421699833924754),\n",
       " (58.05603187302838, 9.852011766755965),\n",
       " (58.07615105349061, 9.854087218376252),\n",
       " (13.357393740129135, 58.16676903184005),\n",
       " (7.7201625970041805, 58.14093676311682),\n",
       " (13.34865149674365, -37.4319324703708),\n",
       " (7.722404805671051, -37.41608797989384),\n",
       " (58.078922794241514, 14.328180548418068),\n",
       " (-37.35763464244825, 14.299356429567691),\n",
       " (58.11264447946847, 8.936530384947398),\n",
       " (58.04787447634943, 8.938858319075417),\n",
       " (14.335666697446374, 58.25254007517037),\n",
       " (6.771059922957832, 58.252319710110825),\n",
       " (14.332150264186648, -37.559947763770744),\n",
       " (6.76847547439787, -37.48047184472715),\n",
       " (58.05943430868416, 15.212230121305668),\n",
       " (-37.46084183583004, 15.212998727064395),\n",
       " (58.11262562127371, 8.01586320773009),\n",
       " (58.116850463171005, 8.012248475477604),\n",
       " (15.331343007456722, 57.971360096386626),\n",
       " (5.813543097743645, 57.984861482079346),\n",
       " (15.32166048518813, -37.48057876046887),\n",
       " (5.809668653819249, -37.53060519828511),\n",
       " (57.87888557071942, 16.12804596305742),\n",
       " (-37.46344225839024, 16.1451436766445),\n",
       " (57.87606332830036, 7.063415600562047),\n",
       " (57.84313417462685, 7.0755768813239746),\n",
       " (16.365566445429316, 56.98092448828987),\n",
       " (4.849070403966417, 57.003017904445244),\n",
       " (16.359627288536593, -36.33094901392687),\n",
       " (4.846425695545214, -36.31842692857816),\n",
       " (56.91375916555913, 17.07763214343983),\n",
       " (-36.27940259182759, 17.084769179236368),\n",
       " (56.890300962770816, 6.114133257818727),\n",
       " (56.85912192476452, 6.115361162334817),\n",
       " (17.4123776654694, 56.99920444479028),\n",
       " (3.871309319121118, 57.0262322559967),\n",
       " (17.420007046509824, -36.39375688193992),\n",
       " (3.8705498691124816, -36.39858135648901),\n",
       " (56.89085421843147, 18.071989754729806),\n",
       " (-36.35928102337367, 18.075139993364548),\n",
       " (56.94268103617708, 5.165793836566437),\n",
       " (56.896171028283376, 5.164330115065268),\n",
       " (18.48284573465763, 57.06896089086604),\n",
       " (2.8943174088990897, 57.048877043220735),\n",
       " (18.478623708305268, -36.54111807478998),\n",
       " (2.8967792012709066, -36.561242880936135),\n",
       " (56.84810025402612, 19.080726416153393),\n",
       " (-36.48628796249449, 19.085789111052627),\n",
       " (56.8823882666257, 4.189242339629271),\n",
       " (56.81816553631869, 4.184997378112959),\n",
       " (19.591734500710714, 56.83273343850534),\n",
       " (1.9283061613806125, 56.87540920804205),\n",
       " (19.62768382880028, -36.54100964322935),\n",
       " (1.9275409795884477, -36.51544181006084),\n",
       " (56.749823742673094, 20.13782233197966),\n",
       " (-36.469520770969986, 20.14250731558545),\n",
       " (56.686541557418096, 3.2013911360534726),\n",
       " (56.719992730692816, 3.2054270125477693),\n",
       " (20.744086927291317, 56.39966548406489),\n",
       " (0.972934751079646, 56.40551466327719),\n",
       " (20.752433590037015, -36.13443751735056),\n",
       " (0.9668635924887665, -36.071820722737115),\n",
       " (56.231546882676774, 21.234971946782526),\n",
       " (-36.086829452679844, 21.21305249483261),\n",
       " (56.24667563594885, 2.2235431944241184),\n",
       " (56.27126470084033, 2.2184573317508334)]"
      ]
     },
     "execution_count": 30,
     "metadata": {},
     "output_type": "execute_result"
    }
   ],
   "source": [
    "points = []\n",
    "for i in range(0,len(predict)-1,2):\n",
    "    points.append((predict[i],predict[i+1]))\n",
    "points"
   ]
  },
  {
   "cell_type": "code",
   "execution_count": 31,
   "metadata": {},
   "outputs": [],
   "source": [
    "import matplotlib.pyplot as plt"
   ]
  },
  {
   "cell_type": "code",
   "execution_count": 38,
   "metadata": {},
   "outputs": [
    {
     "data": {
      "image/png": "[encoded data removed]",
      "text/plain": [
       "<Figure size 432x288 with 1 Axes>"
      ]
     },
     "metadata": {},
     "output_type": "display_data"
    }
   ],
   "source": [
    "for point in points:\n",
    "    plt.plot(*point,'g.')\n",
    "plt.show()"
   ]
  },
  {
   "cell_type": "code",
   "execution_count": 41,
   "metadata": {},
   "outputs": [
    {
     "data": {
      "image/png": "[encoded data removed]",
      "text/plain": [
       "<Figure size 432x288 with 1 Axes>"
      ]
     },
     "metadata": {},
     "output_type": "display_data"
    }
   ],
   "source": [
    "# Lets test the actual Bresenhams agorithm \n",
    "import bresenham_test\n",
    "Xc = 5 \n",
    "Yc = 5\n",
    "Radius = 70\n",
    "bresenham_test.plotCircle(Xc,Yc,Radius)"
   ]
  },
  {
   "cell_type": "code",
   "execution_count": 42,
   "metadata": {},
   "outputs": [],
   "source": [
    "def prediction_draw(Xc,Yc,R):\n",
    "    test = np.array([[5,5,70]])\n",
    "    test = loaded_scaler.transform(test)\n",
    "    predict = loaded_model.predict(test)\n",
    "    predict = predict.flatten()\n",
    "    points = []\n",
    "    for i in range(0,len(predict)-1,2):\n",
    "        points.append((predict[i],predict[i+1]))\n",
    "    for point in points:\n",
    "        plt.plot(*point,'g.')\n",
    "    plt.show()\n",
    "    \n",
    "\n",
    "    "
   ]
  },
  {
   "cell_type": "code",
   "execution_count": null,
   "metadata": {},
   "outputs": [],
   "source": []
  }
 ],
 "metadata": {
  "kernelspec": {
   "display_name": "Python 3",
   "language": "python",
   "name": "python3"
  },
  "language_info": {
   "codemirror_mode": {
    "name": "ipython",
    "version": 3
   },
   "file_extension": ".py",
   "mimetype": "text/x-python",
   "name": "python",
   "nbconvert_exporter": "python",
   "pygments_lexer": "ipython3",
   "version": "3.6.3"
  }
 },
 "nbformat": 4,
 "nbformat_minor": 2
}
